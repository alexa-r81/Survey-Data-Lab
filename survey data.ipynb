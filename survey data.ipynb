{
 "cells": [
  {
   "cell_type": "code",
   "execution_count": 1,
   "id": "17382032",
   "metadata": {},
   "outputs": [],
   "source": [
    "import pandas as pd\n",
    "import matplotlib"
   ]
  },
  {
   "cell_type": "code",
   "execution_count": 39,
   "id": "86c103ea",
   "metadata": {},
   "outputs": [
    {
     "data": {
      "text/html": [
       "<div>\n",
       "<style scoped>\n",
       "    .dataframe tbody tr th:only-of-type {\n",
       "        vertical-align: middle;\n",
       "    }\n",
       "\n",
       "    .dataframe tbody tr th {\n",
       "        vertical-align: top;\n",
       "    }\n",
       "\n",
       "    .dataframe thead th {\n",
       "        text-align: right;\n",
       "    }\n",
       "</style>\n",
       "<table border=\"1\" class=\"dataframe\">\n",
       "  <thead>\n",
       "    <tr style=\"text-align: right;\">\n",
       "      <th></th>\n",
       "      <th>Rank</th>\n",
       "      <th>Major_code</th>\n",
       "      <th>Major</th>\n",
       "      <th>Major_category</th>\n",
       "      <th>Total</th>\n",
       "      <th>Men</th>\n",
       "      <th>Women</th>\n",
       "      <th>ShareWomen</th>\n",
       "      <th>Median</th>\n",
       "    </tr>\n",
       "  </thead>\n",
       "  <tbody>\n",
       "    <tr>\n",
       "      <th>0</th>\n",
       "      <td>1</td>\n",
       "      <td>2419</td>\n",
       "      <td>PETROLEUM ENGINEERING</td>\n",
       "      <td>Engineering</td>\n",
       "      <td>2339</td>\n",
       "      <td>2057</td>\n",
       "      <td>282</td>\n",
       "      <td>0.120564</td>\n",
       "      <td>110000</td>\n",
       "    </tr>\n",
       "    <tr>\n",
       "      <th>1</th>\n",
       "      <td>2</td>\n",
       "      <td>2416</td>\n",
       "      <td>MINING AND MINERAL ENGINEERING</td>\n",
       "      <td>Engineering</td>\n",
       "      <td>756</td>\n",
       "      <td>679</td>\n",
       "      <td>77</td>\n",
       "      <td>0.101852</td>\n",
       "      <td>75000</td>\n",
       "    </tr>\n",
       "    <tr>\n",
       "      <th>2</th>\n",
       "      <td>3</td>\n",
       "      <td>2415</td>\n",
       "      <td>METALLURGICAL ENGINEERING</td>\n",
       "      <td>Engineering</td>\n",
       "      <td>856</td>\n",
       "      <td>725</td>\n",
       "      <td>131</td>\n",
       "      <td>0.153037</td>\n",
       "      <td>73000</td>\n",
       "    </tr>\n",
       "    <tr>\n",
       "      <th>3</th>\n",
       "      <td>4</td>\n",
       "      <td>2417</td>\n",
       "      <td>NAVAL ARCHITECTURE AND MARINE ENGINEERING</td>\n",
       "      <td>Engineering</td>\n",
       "      <td>1258</td>\n",
       "      <td>1123</td>\n",
       "      <td>135</td>\n",
       "      <td>0.107313</td>\n",
       "      <td>70000</td>\n",
       "    </tr>\n",
       "    <tr>\n",
       "      <th>4</th>\n",
       "      <td>5</td>\n",
       "      <td>2418</td>\n",
       "      <td>NUCLEAR ENGINEERING</td>\n",
       "      <td>Engineering</td>\n",
       "      <td>2573</td>\n",
       "      <td>2200</td>\n",
       "      <td>373</td>\n",
       "      <td>0.144967</td>\n",
       "      <td>65000</td>\n",
       "    </tr>\n",
       "  </tbody>\n",
       "</table>\n",
       "</div>"
      ],
      "text/plain": [
       "   Rank  Major_code                                      Major Major_category  \\\n",
       "0     1        2419                      PETROLEUM ENGINEERING    Engineering   \n",
       "1     2        2416             MINING AND MINERAL ENGINEERING    Engineering   \n",
       "2     3        2415                  METALLURGICAL ENGINEERING    Engineering   \n",
       "3     4        2417  NAVAL ARCHITECTURE AND MARINE ENGINEERING    Engineering   \n",
       "4     5        2418                        NUCLEAR ENGINEERING    Engineering   \n",
       "\n",
       "   Total   Men  Women  ShareWomen  Median  \n",
       "0   2339  2057    282    0.120564  110000  \n",
       "1    756   679     77    0.101852   75000  \n",
       "2    856   725    131    0.153037   73000  \n",
       "3   1258  1123    135    0.107313   70000  \n",
       "4   2573  2200    373    0.144967   65000  "
      ]
     },
     "execution_count": 39,
     "metadata": {},
     "output_type": "execute_result"
    }
   ],
   "source": [
    "file = '../women-stem.csv'\n",
    "df = pd.read_csv(file)\n",
    "df.head()"
   ]
  },
  {
   "cell_type": "code",
   "execution_count": 35,
   "id": "4534bfce",
   "metadata": {},
   "outputs": [
    {
     "name": "stdout",
     "output_type": "stream",
     "text": [
      "0.43692924057894733\n"
     ]
    }
   ],
   "source": [
    "sharewomen_mean = df['ShareWomen'].mean()\n",
    "print(sharewomen_mean)"
   ]
  },
  {
   "cell_type": "code",
   "execution_count": 25,
   "id": "9c08e7f0",
   "metadata": {},
   "outputs": [
    {
     "name": "stdout",
     "output_type": "stream",
     "text": [
      "0.4058678835\n"
     ]
    }
   ],
   "source": [
    "sharewomen_median = df['ShareWomen'].median()\n",
    "print(sharewomen_median)"
   ]
  },
  {
   "cell_type": "code",
   "execution_count": 36,
   "id": "97a8839d",
   "metadata": {},
   "outputs": [
    {
     "name": "stdout",
     "output_type": "stream",
     "text": [
      "0.23888867596551724\n"
     ]
    }
   ],
   "source": [
    "#mean of sharewomen among engineering only\n",
    "sharewomen_mean = df1['ShareWomen'].mean()\n",
    "print(sharewomen_mean)"
   ]
  },
  {
   "cell_type": "code",
   "execution_count": 38,
   "id": "0709319d",
   "metadata": {
    "scrolled": true
   },
   "outputs": [
    {
     "name": "stdout",
     "output_type": "stream",
     "text": [
      "0.227117943\n"
     ]
    }
   ],
   "source": [
    "#median of sharewomen among engineering only\n",
    "sharewomen_median = df1['ShareWomen'].median()\n",
    "print(sharewomen_median)"
   ]
  },
  {
   "cell_type": "code",
   "execution_count": 40,
   "id": "5f5c8ec1",
   "metadata": {
    "scrolled": true
   },
   "outputs": [
    {
     "name": "stdout",
     "output_type": "stream",
     "text": [
      "            Rank  Major_code     Total      Men     Women    Median\n",
      "ShareWomen                                                         \n",
      "0.077453    44.0      2504.0    4790.0   4419.0     371.0   40000.0\n",
      "0.101852     2.0      2416.0     756.0    679.0      77.0   75000.0\n",
      "0.107313     4.0      2417.0    1258.0   1123.0     135.0   70000.0\n",
      "0.119559     8.0      2414.0   91227.0  80320.0   10907.0   60000.0\n",
      "0.120564     1.0      2419.0    2339.0   2057.0     282.0  110000.0\n",
      "...          ...         ...       ...      ...       ...       ...\n",
      "0.864456    67.0      4002.0   18909.0   2563.0   16346.0   35000.0\n",
      "0.881294    59.0      6199.0   13386.0   1589.0   11797.0   36000.0\n",
      "0.896019    27.0      6107.0  209394.0  21773.0  187621.0   48000.0\n",
      "0.927807    41.0      6104.0   11123.0    803.0   10320.0   42000.0\n",
      "0.967998    75.0      6102.0   38279.0   1225.0   37054.0   28000.0\n",
      "\n",
      "[76 rows x 6 columns]\n"
     ]
    }
   ],
   "source": [
    "#print mean age by major\n",
    "by_major_mean = df.groupby(df['ShareWomen']).mean()\n",
    "print(by_major_mean)"
   ]
  },
  {
   "cell_type": "code",
   "execution_count": 41,
   "id": "bfd553e6",
   "metadata": {
    "scrolled": false
   },
   "outputs": [
    {
     "name": "stdout",
     "output_type": "stream",
     "text": [
      "   Rank  Major_code                                      Major Major_category  \\\n",
      "0     1        2419                      PETROLEUM ENGINEERING    Engineering   \n",
      "1     2        2416             MINING AND MINERAL ENGINEERING    Engineering   \n",
      "2     3        2415                  METALLURGICAL ENGINEERING    Engineering   \n",
      "3     4        2417  NAVAL ARCHITECTURE AND MARINE ENGINEERING    Engineering   \n",
      "4     5        2418                        NUCLEAR ENGINEERING    Engineering   \n",
      "\n",
      "   Total   Men  Women  ShareWomen  Median  \n",
      "0   2339  2057    282    0.120564  110000  \n",
      "1    756   679     77    0.101852   75000  \n",
      "2    856   725    131    0.153037   73000  \n",
      "3   1258  1123    135    0.107313   70000  \n",
      "4   2573  2200    373    0.144967   65000  \n"
     ]
    }
   ],
   "source": [
    "#limit dataset to engineering majors\n",
    "df1 = df[df['Major_category'] == 'Engineering']\n",
    "print(df1.head())"
   ]
  },
  {
   "cell_type": "code",
   "execution_count": 34,
   "id": "3c106712",
   "metadata": {},
   "outputs": [
    {
     "name": "stdout",
     "output_type": "stream",
     "text": [
      "            Rank  Major_code    Total      Men    Women    Median\n",
      "ShareWomen                                                       \n",
      "0.077453    44.0      2504.0   4790.0   4419.0    371.0   40000.0\n",
      "0.101852     2.0      2416.0    756.0    679.0     77.0   75000.0\n",
      "0.107313     4.0      2417.0   1258.0   1123.0    135.0   70000.0\n",
      "0.119559     8.0      2414.0  91227.0  80320.0  10907.0   60000.0\n",
      "0.120564     1.0      2419.0   2339.0   2057.0    282.0  110000.0\n",
      "0.139793     9.0      2401.0  15058.0  12953.0   2105.0   60000.0\n",
      "0.144967     5.0      2418.0   2573.0   2200.0    373.0   65000.0\n",
      "0.153037     3.0      2415.0    856.0    725.0    131.0   73000.0\n",
      "0.174123    39.0      2501.0   2906.0   2400.0    506.0   44000.0\n",
      "0.183985    14.0      2409.0   4321.0   3526.0    795.0   58000.0\n",
      "0.189970    22.0      2499.0   9133.0   7398.0   1735.0   50000.0\n",
      "0.196450    10.0      2408.0  81527.0  65511.0  16016.0   60000.0\n",
      "0.199413    11.0      2407.0  41542.0  33258.0   8284.0   60000.0\n",
      "0.200023    45.0      2599.0   8804.0   7043.0   1761.0   40000.0\n",
      "0.227118    23.0      2406.0  53153.0  41081.0  12072.0   50000.0\n",
      "0.249190    28.0      2503.0   4631.0   3477.0   1154.0   46000.0\n",
      "0.251389    24.0      2500.0   3600.0   2695.0    905.0   50000.0\n",
      "0.252960    17.0      2400.0  61152.0  45683.0  15469.0   56000.0\n",
      "0.292607    20.0      2502.0  11565.0   8181.0   3384.0   52000.0\n",
      "0.310820    12.0      5008.0   4279.0   2949.0   1330.0   60000.0\n",
      "0.320784    15.0      2402.0   8925.0   6062.0   2863.0   57100.0\n",
      "0.322222    25.0      2411.0    720.0    488.0    232.0   50000.0\n",
      "0.325092    21.0      2413.0   2993.0   2020.0    973.0   52000.0\n",
      "0.341631     6.0      2405.0  32260.0  21239.0  11021.0   65000.0\n",
      "0.342229    26.0      2410.0   4047.0   2662.0   1385.0   50000.0\n",
      "0.343473    16.0      2412.0  18968.0  12453.0   6515.0   57000.0\n",
      "0.350442    18.0      2403.0   2825.0   1835.0    990.0   54000.0\n",
      "0.437847    13.0      2404.0  14955.0   8407.0   6548.0   60000.0\n",
      "0.451465    47.0      1401.0  46420.0  25463.0  20957.0   40000.0\n"
     ]
    }
   ],
   "source": [
    "#only engineering majors\n",
    "by_major_engineering_mean = df1.groupby('ShareWomen').mean()\n",
    "print(by_major_engineering_mean)"
   ]
  },
  {
   "cell_type": "code",
   "execution_count": 43,
   "id": "6a9f5200",
   "metadata": {},
   "outputs": [
    {
     "data": {
      "text/plain": [
       "0.967998119"
      ]
     },
     "execution_count": 43,
     "metadata": {},
     "output_type": "execute_result"
    }
   ],
   "source": [
    "#max sharewomen\n",
    "max(df['ShareWomen'])"
   ]
  },
  {
   "cell_type": "code",
   "execution_count": 44,
   "id": "9046bf21",
   "metadata": {},
   "outputs": [
    {
     "data": {
      "text/plain": [
       "0.077453027"
      ]
     },
     "execution_count": 44,
     "metadata": {},
     "output_type": "execute_result"
    }
   ],
   "source": [
    "#min sharewomen\n",
    "min(df['ShareWomen'])"
   ]
  },
  {
   "cell_type": "code",
   "execution_count": 45,
   "id": "6b616be2",
   "metadata": {
    "scrolled": true
   },
   "outputs": [
    {
     "data": {
      "text/plain": [
       "0.451464886"
      ]
     },
     "execution_count": 45,
     "metadata": {},
     "output_type": "execute_result"
    }
   ],
   "source": [
    "#max sharewomen engineering only\n",
    "max(df1['ShareWomen'])"
   ]
  },
  {
   "cell_type": "code",
   "execution_count": 46,
   "id": "ab179841",
   "metadata": {},
   "outputs": [
    {
     "data": {
      "text/plain": [
       "0.077453027"
      ]
     },
     "execution_count": 46,
     "metadata": {},
     "output_type": "execute_result"
    }
   ],
   "source": [
    "#min sharewomen engineering only\n",
    "min(df1['ShareWomen'])"
   ]
  },
  {
   "cell_type": "code",
   "execution_count": null,
   "id": "5b971689",
   "metadata": {},
   "outputs": [],
   "source": [
    "#Independent learning: I found the max and min of the sharewomen column, and then I also found the max and min of the sharewomen column out of only engineering majors."
   ]
  }
 ],
 "metadata": {
  "kernelspec": {
   "display_name": "Python 3 (ipykernel)",
   "language": "python",
   "name": "python3"
  },
  "language_info": {
   "codemirror_mode": {
    "name": "ipython",
    "version": 3
   },
   "file_extension": ".py",
   "mimetype": "text/x-python",
   "name": "python",
   "nbconvert_exporter": "python",
   "pygments_lexer": "ipython3",
   "version": "3.9.12"
  }
 },
 "nbformat": 4,
 "nbformat_minor": 5
}
